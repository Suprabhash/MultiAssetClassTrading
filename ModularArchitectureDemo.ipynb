{
 "cells": [
  {
   "attachments": {},
   "cell_type": "markdown",
   "metadata": {},
   "source": [
    "## Relevant Imports "
   ]
  },
  {
   "cell_type": "code",
   "execution_count": 1,
   "metadata": {},
   "outputs": [],
   "source": [
    "%load_ext autoreload\n",
    "%autoreload 2"
   ]
  },
  {
   "cell_type": "code",
   "execution_count": 2,
   "metadata": {},
   "outputs": [],
   "source": [
    "import warnings\n",
    "warnings.filterwarnings(\"ignore\")"
   ]
  },
  {
   "cell_type": "code",
   "execution_count": 3,
   "metadata": {},
   "outputs": [],
   "source": [
    "%matplotlib inline\n",
    "import matplotlib.pyplot as plt\n",
    "plt.rcParams[\"figure.figsize\"] = (15,5)\n",
    "plt.rcParams['axes.grid'] = False\n",
    "import seaborn as sns\n",
    "sns.set_style(\"whitegrid\", {'axes.grid' : False})"
   ]
  },
  {
   "cell_type": "code",
   "execution_count": 4,
   "metadata": {},
   "outputs": [],
   "source": [
    "import datetime"
   ]
  },
  {
   "cell_type": "code",
   "execution_count": 5,
   "metadata": {},
   "outputs": [],
   "source": [
    "from Base.underlying import underlying\n",
    "from Base.stock import stock"
   ]
  },
  {
   "attachments": {},
   "cell_type": "markdown",
   "metadata": {},
   "source": [
    "## Create an underlying object. This is the ticker underlying for all securities. "
   ]
  },
  {
   "cell_type": "code",
   "execution_count": 6,
   "metadata": {},
   "outputs": [],
   "source": [
    "reliance = underlying('RELIANCE')"
   ]
  },
  {
   "attachments": {},
   "cell_type": "markdown",
   "metadata": {},
   "source": [
    "## Create an object for the cash stock security for the underlying"
   ]
  },
  {
   "cell_type": "code",
   "execution_count": 7,
   "metadata": {},
   "outputs": [],
   "source": [
    "reliance_stock = stock(reliance)"
   ]
  },
  {
   "attachments": {},
   "cell_type": "markdown",
   "metadata": {},
   "source": [
    "### Get data for the cash equity security for the underlying"
   ]
  },
  {
   "cell_type": "code",
   "execution_count": 8,
   "metadata": {},
   "outputs": [],
   "source": [
    "reliance_stock.get_data(start_date=\"2022-06-01\", end_date=datetime.datetime.now().strftime(\"%Y-%m-%d %H:%M:%S\"), interval=\"60minute\")"
   ]
  },
  {
   "cell_type": "code",
   "execution_count": 9,
   "metadata": {},
   "outputs": [
    {
     "data": {
      "text/html": [
       "<div>\n",
       "<style scoped>\n",
       "    .dataframe tbody tr th:only-of-type {\n",
       "        vertical-align: middle;\n",
       "    }\n",
       "\n",
       "    .dataframe tbody tr th {\n",
       "        vertical-align: top;\n",
       "    }\n",
       "\n",
       "    .dataframe thead th {\n",
       "        text-align: right;\n",
       "    }\n",
       "</style>\n",
       "<table border=\"1\" class=\"dataframe\">\n",
       "  <thead>\n",
       "    <tr style=\"text-align: right;\">\n",
       "      <th></th>\n",
       "      <th>date</th>\n",
       "      <th>open</th>\n",
       "      <th>high</th>\n",
       "      <th>low</th>\n",
       "      <th>close</th>\n",
       "      <th>volume</th>\n",
       "    </tr>\n",
       "  </thead>\n",
       "  <tbody>\n",
       "    <tr>\n",
       "      <th>0</th>\n",
       "      <td>2022-06-01 09:15:00+05:30</td>\n",
       "      <td>2634.30</td>\n",
       "      <td>2650.00</td>\n",
       "      <td>2625.0</td>\n",
       "      <td>2640.40</td>\n",
       "      <td>1352354</td>\n",
       "    </tr>\n",
       "    <tr>\n",
       "      <th>1</th>\n",
       "      <td>2022-06-01 10:15:00+05:30</td>\n",
       "      <td>2640.40</td>\n",
       "      <td>2652.00</td>\n",
       "      <td>2637.9</td>\n",
       "      <td>2645.35</td>\n",
       "      <td>660209</td>\n",
       "    </tr>\n",
       "    <tr>\n",
       "      <th>2</th>\n",
       "      <td>2022-06-01 11:15:00+05:30</td>\n",
       "      <td>2645.00</td>\n",
       "      <td>2655.20</td>\n",
       "      <td>2638.6</td>\n",
       "      <td>2647.40</td>\n",
       "      <td>547521</td>\n",
       "    </tr>\n",
       "    <tr>\n",
       "      <th>3</th>\n",
       "      <td>2022-06-01 12:15:00+05:30</td>\n",
       "      <td>2647.40</td>\n",
       "      <td>2650.90</td>\n",
       "      <td>2640.0</td>\n",
       "      <td>2640.00</td>\n",
       "      <td>326939</td>\n",
       "    </tr>\n",
       "    <tr>\n",
       "      <th>4</th>\n",
       "      <td>2022-06-01 13:15:00+05:30</td>\n",
       "      <td>2639.60</td>\n",
       "      <td>2640.50</td>\n",
       "      <td>2616.2</td>\n",
       "      <td>2619.45</td>\n",
       "      <td>601275</td>\n",
       "    </tr>\n",
       "    <tr>\n",
       "      <th>...</th>\n",
       "      <td>...</td>\n",
       "      <td>...</td>\n",
       "      <td>...</td>\n",
       "      <td>...</td>\n",
       "      <td>...</td>\n",
       "      <td>...</td>\n",
       "    </tr>\n",
       "    <tr>\n",
       "      <th>1833</th>\n",
       "      <td>2023-06-21 14:15:00+05:30</td>\n",
       "      <td>2566.85</td>\n",
       "      <td>2567.00</td>\n",
       "      <td>2558.7</td>\n",
       "      <td>2565.10</td>\n",
       "      <td>772484</td>\n",
       "    </tr>\n",
       "    <tr>\n",
       "      <th>1834</th>\n",
       "      <td>2023-06-21 15:15:00+05:30</td>\n",
       "      <td>2564.95</td>\n",
       "      <td>2566.95</td>\n",
       "      <td>2561.5</td>\n",
       "      <td>2564.90</td>\n",
       "      <td>508043</td>\n",
       "    </tr>\n",
       "    <tr>\n",
       "      <th>1835</th>\n",
       "      <td>2023-06-22 09:15:00+05:30</td>\n",
       "      <td>2556.00</td>\n",
       "      <td>2573.30</td>\n",
       "      <td>2556.0</td>\n",
       "      <td>2568.95</td>\n",
       "      <td>609430</td>\n",
       "    </tr>\n",
       "    <tr>\n",
       "      <th>1836</th>\n",
       "      <td>2023-06-22 10:15:00+05:30</td>\n",
       "      <td>2569.70</td>\n",
       "      <td>2570.70</td>\n",
       "      <td>2555.0</td>\n",
       "      <td>2558.35</td>\n",
       "      <td>557970</td>\n",
       "    </tr>\n",
       "    <tr>\n",
       "      <th>1837</th>\n",
       "      <td>2023-06-22 11:15:00+05:30</td>\n",
       "      <td>2558.05</td>\n",
       "      <td>2558.95</td>\n",
       "      <td>2553.2</td>\n",
       "      <td>2554.65</td>\n",
       "      <td>115197</td>\n",
       "    </tr>\n",
       "  </tbody>\n",
       "</table>\n",
       "<p>1838 rows × 6 columns</p>\n",
       "</div>"
      ],
      "text/plain": [
       "                          date     open     high     low    close   volume\n",
       "0    2022-06-01 09:15:00+05:30  2634.30  2650.00  2625.0  2640.40  1352354\n",
       "1    2022-06-01 10:15:00+05:30  2640.40  2652.00  2637.9  2645.35   660209\n",
       "2    2022-06-01 11:15:00+05:30  2645.00  2655.20  2638.6  2647.40   547521\n",
       "3    2022-06-01 12:15:00+05:30  2647.40  2650.90  2640.0  2640.00   326939\n",
       "4    2022-06-01 13:15:00+05:30  2639.60  2640.50  2616.2  2619.45   601275\n",
       "...                        ...      ...      ...     ...      ...      ...\n",
       "1833 2023-06-21 14:15:00+05:30  2566.85  2567.00  2558.7  2565.10   772484\n",
       "1834 2023-06-21 15:15:00+05:30  2564.95  2566.95  2561.5  2564.90   508043\n",
       "1835 2023-06-22 09:15:00+05:30  2556.00  2573.30  2556.0  2568.95   609430\n",
       "1836 2023-06-22 10:15:00+05:30  2569.70  2570.70  2555.0  2558.35   557970\n",
       "1837 2023-06-22 11:15:00+05:30  2558.05  2558.95  2553.2  2554.65   115197\n",
       "\n",
       "[1838 rows x 6 columns]"
      ]
     },
     "execution_count": 9,
     "metadata": {},
     "output_type": "execute_result"
    }
   ],
   "source": [
    "reliance.stock.data"
   ]
  },
  {
   "attachments": {},
   "cell_type": "markdown",
   "metadata": {},
   "source": [
    "## Options "
   ]
  },
  {
   "attachments": {},
   "cell_type": "markdown",
   "metadata": {},
   "source": [
    "### Getting all Available Options for an Underlying"
   ]
  },
  {
   "cell_type": "code",
   "execution_count": null,
   "metadata": {},
   "outputs": [],
   "source": [
    "reliance.get_option_matrix()"
   ]
  },
  {
   "attachments": {},
   "cell_type": "markdown",
   "metadata": {},
   "source": [
    "### Create objects for each option contract"
   ]
  },
  {
   "cell_type": "code",
   "execution_count": null,
   "metadata": {},
   "outputs": [],
   "source": [
    "reliance.create_options_contracts()"
   ]
  },
  {
   "attachments": {},
   "cell_type": "markdown",
   "metadata": {},
   "source": [
    "### All Expiries"
   ]
  },
  {
   "cell_type": "code",
   "execution_count": 173,
   "metadata": {},
   "outputs": [
    {
     "data": {
      "text/plain": [
       "[datetime.date(2023, 8, 31),\n",
       " datetime.date(2023, 7, 27),\n",
       " datetime.date(2023, 6, 29)]"
      ]
     },
     "execution_count": 173,
     "metadata": {},
     "output_type": "execute_result"
    }
   ],
   "source": [
    "reliance.option_expiries"
   ]
  },
  {
   "attachments": {},
   "cell_type": "markdown",
   "metadata": {},
   "source": [
    "### All Strikes for a Particular Expiry"
   ]
  },
  {
   "cell_type": "code",
   "execution_count": 176,
   "metadata": {},
   "outputs": [
    {
     "data": {
      "text/plain": [
       "[1900.0,\n",
       " 1920.0,\n",
       " 1940.0,\n",
       " 1960.0,\n",
       " 1980.0,\n",
       " 2000.0,\n",
       " 2020.0,\n",
       " 2040.0,\n",
       " 2060.0,\n",
       " 2080.0,\n",
       " 2100.0,\n",
       " 2120.0,\n",
       " 2140.0,\n",
       " 2160.0,\n",
       " 2180.0,\n",
       " 2200.0,\n",
       " 2220.0,\n",
       " 2240.0,\n",
       " 2260.0,\n",
       " 2280.0,\n",
       " 2300.0,\n",
       " 2320.0,\n",
       " 2340.0,\n",
       " 2360.0,\n",
       " 2380.0,\n",
       " 2400.0,\n",
       " 2420.0,\n",
       " 2440.0,\n",
       " 2460.0,\n",
       " 2480.0,\n",
       " 2500.0,\n",
       " 2520.0,\n",
       " 2540.0,\n",
       " 2560.0,\n",
       " 2580.0,\n",
       " 2600.0,\n",
       " 2620.0,\n",
       " 2640.0,\n",
       " 2660.0,\n",
       " 2680.0,\n",
       " 2700.0,\n",
       " 2720.0,\n",
       " 2740.0,\n",
       " 2760.0,\n",
       " 2780.0,\n",
       " 2800.0,\n",
       " 2820.0,\n",
       " 2840.0,\n",
       " 2860.0,\n",
       " 2880.0,\n",
       " 2900.0,\n",
       " 2920.0]"
      ]
     },
     "execution_count": 176,
     "metadata": {},
     "output_type": "execute_result"
    }
   ],
   "source": [
    "reliance.get_strike_list(reliance.options_matrix, datetime.date(2023, 6, 29))"
   ]
  },
  {
   "attachments": {},
   "cell_type": "markdown",
   "metadata": {},
   "source": [
    "### Get Data for all Options Contracts"
   ]
  },
  {
   "cell_type": "code",
   "execution_count": 159,
   "metadata": {},
   "outputs": [],
   "source": [
    "reliance.get_data_for_all_options_contracts(start_date=\"2023-06-01\", end_date=datetime.datetime.now().strftime(\"%Y-%m-%d %H:%M:%S\"), interval=\"day\")"
   ]
  },
  {
   "attachments": {},
   "cell_type": "markdown",
   "metadata": {},
   "source": [
    "### Get Option Data for a Particular Contract"
   ]
  },
  {
   "cell_type": "code",
   "execution_count": 177,
   "metadata": {},
   "outputs": [],
   "source": [
    "reliance.options[datetime.date(2023, 6, 29)][2400]['call'].get_data(start_date=\"2023-04-01\", end_date=datetime.datetime.now().strftime(\"%Y-%m-%d %H:%M:%S\"), interval=\"day\")"
   ]
  },
  {
   "cell_type": "code",
   "execution_count": null,
   "metadata": {},
   "outputs": [],
   "source": []
  }
 ],
 "metadata": {
  "kernelspec": {
   "display_name": "Python 3",
   "language": "python",
   "name": "python3"
  },
  "language_info": {
   "codemirror_mode": {
    "name": "ipython",
    "version": 3
   },
   "file_extension": ".py",
   "mimetype": "text/x-python",
   "name": "python",
   "nbconvert_exporter": "python",
   "pygments_lexer": "ipython3",
   "version": "3.9.6"
  },
  "orig_nbformat": 4
 },
 "nbformat": 4,
 "nbformat_minor": 2
}
