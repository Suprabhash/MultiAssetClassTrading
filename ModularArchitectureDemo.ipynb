{
 "cells": [
  {
   "cell_type": "code",
   "execution_count": 1,
   "metadata": {},
   "outputs": [],
   "source": [
    "%load_ext autoreload\n",
    "%autoreload 2"
   ]
  },
  {
   "cell_type": "code",
   "execution_count": 2,
   "metadata": {},
   "outputs": [],
   "source": [
    "import warnings\n",
    "warnings.filterwarnings(\"ignore\")"
   ]
  },
  {
   "cell_type": "code",
   "execution_count": 2,
   "metadata": {},
   "outputs": [],
   "source": [
    "%matplotlib inline\n",
    "import matplotlib.pyplot as plt\n",
    "plt.rcParams[\"figure.figsize\"] = (15,5)\n",
    "plt.rcParams['axes.grid'] = False\n",
    "import seaborn as sns\n",
    "sns.set_style(\"whitegrid\", {'axes.grid' : False})"
   ]
  },
  {
   "cell_type": "code",
   "execution_count": null,
   "metadata": {},
   "outputs": [],
   "source": []
  },
  {
   "cell_type": "code",
   "execution_count": 33,
   "metadata": {},
   "outputs": [],
   "source": [
    "from Base.underlying import underlying\n",
    "from Base.stock import stock"
   ]
  },
  {
   "cell_type": "code",
   "execution_count": 34,
   "metadata": {},
   "outputs": [],
   "source": [
    "reliance = underlying('RELIANCE')"
   ]
  },
  {
   "cell_type": "code",
   "execution_count": 35,
   "metadata": {},
   "outputs": [
    {
     "data": {
      "text/plain": [
       "'RELIANCE'"
      ]
     },
     "execution_count": 35,
     "metadata": {},
     "output_type": "execute_result"
    }
   ],
   "source": [
    "reliance.underlying_ticker"
   ]
  },
  {
   "cell_type": "code",
   "execution_count": 36,
   "metadata": {},
   "outputs": [],
   "source": [
    "reliance_stock = stock(reliance)"
   ]
  },
  {
   "cell_type": "code",
   "execution_count": 37,
   "metadata": {},
   "outputs": [
    {
     "data": {
      "text/plain": [
       "'RELIANCE'"
      ]
     },
     "execution_count": 37,
     "metadata": {},
     "output_type": "execute_result"
    }
   ],
   "source": [
    "reliance_stock.underlying_ticker"
   ]
  },
  {
   "cell_type": "code",
   "execution_count": 38,
   "metadata": {},
   "outputs": [
    {
     "data": {
      "text/plain": [
       "<Base.stock.stock at 0x127f7e820>"
      ]
     },
     "execution_count": 38,
     "metadata": {},
     "output_type": "execute_result"
    }
   ],
   "source": [
    "reliance.stock"
   ]
  },
  {
   "cell_type": "code",
   "execution_count": 41,
   "metadata": {},
   "outputs": [
    {
     "name": "stderr",
     "output_type": "stream",
     "text": [
      "DEBUG:urllib3.connectionpool:Starting new HTTPS connection (1): api.kite.trade:443\n",
      "DEBUG:urllib3.connectionpool:https://api.kite.trade:443 \"GET /instruments/NSE HTTP/1.1\" 200 81864\n",
      "DEBUG:urllib3.connectionpool:https://api.kite.trade:443 \"GET /instruments/historical/738561/day?from=2021-01-01+00%3A01%3A00&to=2023-06-21+19%3A44%3A43&interval=day&continuous=0&oi=0 HTTP/1.1\" 200 13508\n"
     ]
    }
   ],
   "source": [
    "reliance_stock.get_data()"
   ]
  },
  {
   "cell_type": "code",
   "execution_count": null,
   "metadata": {},
   "outputs": [],
   "source": []
  },
  {
   "cell_type": "code",
   "execution_count": 31,
   "metadata": {},
   "outputs": [
    {
     "name": "stderr",
     "output_type": "stream",
     "text": [
      "DEBUG:urllib3.connectionpool:Starting new HTTPS connection (1): api.kite.trade:443\n"
     ]
    },
    {
     "name": "stderr",
     "output_type": "stream",
     "text": [
      "DEBUG:urllib3.connectionpool:https://api.kite.trade:443 \"GET /instruments/NSE HTTP/1.1\" 200 81864\n",
      "DEBUG:urllib3.connectionpool:https://api.kite.trade:443 \"GET /instruments/historical/340481/day?from=2021-01-01+00%3A01%3A00&to=2023-06-21+19%3A37%3A25&interval=day&continuous=0&oi=1 HTTP/1.1\" 200 13470\n"
     ]
    }
   ],
   "source": [
    "import datetime\n",
    "import logging\n",
    "from kiteconnect import KiteConnect\n",
    "import pprint\n",
    "import pandas as pd\n",
    "import plotly.graph_objects as go\n",
    "\n",
    "logging.basicConfig(level=logging.DEBUG)\n",
    "\n",
    "kite = KiteConnect(api_key=\"i1kdmhmd191859jo\")\n",
    "\n",
    "access_token = '6Ky8H1ghUnZoKAzK7TeE5Fc5cBKULYi9'\n",
    "kite.set_access_token(access_token)\n",
    "\n",
    "ticker_name = 'HDFC'\n",
    "\n",
    "nse = kite.instruments('NSE')\n",
    "nse_data = pd.DataFrame(nse)\n",
    "\n",
    "# print(nse_data[nse_data.tradingsymbol.str.contains('HDFC')])\n",
    "\n",
    "format = \"%Y-%m-%d %H:%M:%S\"\n",
    "\n",
    "token = nse_data[nse_data.tradingsymbol == ticker_name].instrument_token.values[0]\n",
    "kite_data_historical = kite.historical_data(token, \"2021-01-01 00:01:00\",\n",
    "                                            datetime.datetime.now().strftime(format),\n",
    "                                            'day', continuous=False, oi=True)\n",
    "rcom_be = pd.DataFrame(kite_data_historical)\n",
    "\n",
    "df = rcom_be\n"
   ]
  },
  {
   "cell_type": "code",
   "execution_count": 32,
   "metadata": {},
   "outputs": [
    {
     "data": {
      "text/html": [
       "<div>\n",
       "<style scoped>\n",
       "    .dataframe tbody tr th:only-of-type {\n",
       "        vertical-align: middle;\n",
       "    }\n",
       "\n",
       "    .dataframe tbody tr th {\n",
       "        vertical-align: top;\n",
       "    }\n",
       "\n",
       "    .dataframe thead th {\n",
       "        text-align: right;\n",
       "    }\n",
       "</style>\n",
       "<table border=\"1\" class=\"dataframe\">\n",
       "  <thead>\n",
       "    <tr style=\"text-align: right;\">\n",
       "      <th></th>\n",
       "      <th>date</th>\n",
       "      <th>open</th>\n",
       "      <th>high</th>\n",
       "      <th>low</th>\n",
       "      <th>close</th>\n",
       "      <th>volume</th>\n",
       "      <th>oi</th>\n",
       "    </tr>\n",
       "  </thead>\n",
       "  <tbody>\n",
       "    <tr>\n",
       "      <th>0</th>\n",
       "      <td>2021-01-04 00:00:00+05:30</td>\n",
       "      <td>2576.90</td>\n",
       "      <td>2592.35</td>\n",
       "      <td>2533.15</td>\n",
       "      <td>2578.50</td>\n",
       "      <td>2795972</td>\n",
       "      <td>0</td>\n",
       "    </tr>\n",
       "    <tr>\n",
       "      <th>1</th>\n",
       "      <td>2021-01-05 00:00:00+05:30</td>\n",
       "      <td>2589.00</td>\n",
       "      <td>2659.45</td>\n",
       "      <td>2572.40</td>\n",
       "      <td>2651.85</td>\n",
       "      <td>5870743</td>\n",
       "      <td>0</td>\n",
       "    </tr>\n",
       "    <tr>\n",
       "      <th>2</th>\n",
       "      <td>2021-01-06 00:00:00+05:30</td>\n",
       "      <td>2664.70</td>\n",
       "      <td>2665.00</td>\n",
       "      <td>2619.00</td>\n",
       "      <td>2638.85</td>\n",
       "      <td>3401085</td>\n",
       "      <td>0</td>\n",
       "    </tr>\n",
       "    <tr>\n",
       "      <th>3</th>\n",
       "      <td>2021-01-07 00:00:00+05:30</td>\n",
       "      <td>2670.00</td>\n",
       "      <td>2709.35</td>\n",
       "      <td>2647.40</td>\n",
       "      <td>2661.35</td>\n",
       "      <td>4106042</td>\n",
       "      <td>0</td>\n",
       "    </tr>\n",
       "    <tr>\n",
       "      <th>4</th>\n",
       "      <td>2021-01-08 00:00:00+05:30</td>\n",
       "      <td>2668.00</td>\n",
       "      <td>2674.40</td>\n",
       "      <td>2631.00</td>\n",
       "      <td>2657.50</td>\n",
       "      <td>4497042</td>\n",
       "      <td>0</td>\n",
       "    </tr>\n",
       "    <tr>\n",
       "      <th>...</th>\n",
       "      <td>...</td>\n",
       "      <td>...</td>\n",
       "      <td>...</td>\n",
       "      <td>...</td>\n",
       "      <td>...</td>\n",
       "      <td>...</td>\n",
       "      <td>...</td>\n",
       "    </tr>\n",
       "    <tr>\n",
       "      <th>606</th>\n",
       "      <td>2023-06-15 00:00:00+05:30</td>\n",
       "      <td>2647.75</td>\n",
       "      <td>2652.15</td>\n",
       "      <td>2618.00</td>\n",
       "      <td>2620.15</td>\n",
       "      <td>3498981</td>\n",
       "      <td>0</td>\n",
       "    </tr>\n",
       "    <tr>\n",
       "      <th>607</th>\n",
       "      <td>2023-06-16 00:00:00+05:30</td>\n",
       "      <td>2630.00</td>\n",
       "      <td>2664.00</td>\n",
       "      <td>2626.05</td>\n",
       "      <td>2650.45</td>\n",
       "      <td>11656470</td>\n",
       "      <td>0</td>\n",
       "    </tr>\n",
       "    <tr>\n",
       "      <th>608</th>\n",
       "      <td>2023-06-19 00:00:00+05:30</td>\n",
       "      <td>2664.05</td>\n",
       "      <td>2669.00</td>\n",
       "      <td>2647.15</td>\n",
       "      <td>2654.80</td>\n",
       "      <td>5187085</td>\n",
       "      <td>0</td>\n",
       "    </tr>\n",
       "    <tr>\n",
       "      <th>609</th>\n",
       "      <td>2023-06-20 00:00:00+05:30</td>\n",
       "      <td>2653.95</td>\n",
       "      <td>2663.00</td>\n",
       "      <td>2631.40</td>\n",
       "      <td>2658.55</td>\n",
       "      <td>5495069</td>\n",
       "      <td>0</td>\n",
       "    </tr>\n",
       "    <tr>\n",
       "      <th>610</th>\n",
       "      <td>2023-06-21 00:00:00+05:30</td>\n",
       "      <td>2670.10</td>\n",
       "      <td>2704.80</td>\n",
       "      <td>2665.25</td>\n",
       "      <td>2702.00</td>\n",
       "      <td>4444247</td>\n",
       "      <td>0</td>\n",
       "    </tr>\n",
       "  </tbody>\n",
       "</table>\n",
       "<p>611 rows × 7 columns</p>\n",
       "</div>"
      ],
      "text/plain": [
       "                         date     open     high      low    close    volume  \\\n",
       "0   2021-01-04 00:00:00+05:30  2576.90  2592.35  2533.15  2578.50   2795972   \n",
       "1   2021-01-05 00:00:00+05:30  2589.00  2659.45  2572.40  2651.85   5870743   \n",
       "2   2021-01-06 00:00:00+05:30  2664.70  2665.00  2619.00  2638.85   3401085   \n",
       "3   2021-01-07 00:00:00+05:30  2670.00  2709.35  2647.40  2661.35   4106042   \n",
       "4   2021-01-08 00:00:00+05:30  2668.00  2674.40  2631.00  2657.50   4497042   \n",
       "..                        ...      ...      ...      ...      ...       ...   \n",
       "606 2023-06-15 00:00:00+05:30  2647.75  2652.15  2618.00  2620.15   3498981   \n",
       "607 2023-06-16 00:00:00+05:30  2630.00  2664.00  2626.05  2650.45  11656470   \n",
       "608 2023-06-19 00:00:00+05:30  2664.05  2669.00  2647.15  2654.80   5187085   \n",
       "609 2023-06-20 00:00:00+05:30  2653.95  2663.00  2631.40  2658.55   5495069   \n",
       "610 2023-06-21 00:00:00+05:30  2670.10  2704.80  2665.25  2702.00   4444247   \n",
       "\n",
       "     oi  \n",
       "0     0  \n",
       "1     0  \n",
       "2     0  \n",
       "3     0  \n",
       "4     0  \n",
       "..   ..  \n",
       "606   0  \n",
       "607   0  \n",
       "608   0  \n",
       "609   0  \n",
       "610   0  \n",
       "\n",
       "[611 rows x 7 columns]"
      ]
     },
     "execution_count": 32,
     "metadata": {},
     "output_type": "execute_result"
    }
   ],
   "source": [
    "df"
   ]
  },
  {
   "cell_type": "code",
   "execution_count": null,
   "metadata": {},
   "outputs": [],
   "source": []
  }
 ],
 "metadata": {
  "kernelspec": {
   "display_name": "Python 3",
   "language": "python",
   "name": "python3"
  },
  "language_info": {
   "codemirror_mode": {
    "name": "ipython",
    "version": 3
   },
   "file_extension": ".py",
   "mimetype": "text/x-python",
   "name": "python",
   "nbconvert_exporter": "python",
   "pygments_lexer": "ipython3",
   "version": "3.9.6"
  },
  "orig_nbformat": 4
 },
 "nbformat": 4,
 "nbformat_minor": 2
}
