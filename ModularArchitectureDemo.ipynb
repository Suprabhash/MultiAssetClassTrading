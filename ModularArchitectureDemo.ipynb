{
 "cells": [
  {
   "attachments": {},
   "cell_type": "markdown",
   "metadata": {},
   "source": [
    "## Relevant Imports "
   ]
  },
  {
   "cell_type": "code",
   "execution_count": 1,
   "metadata": {},
   "outputs": [],
   "source": [
    "%load_ext autoreload\n",
    "%autoreload 2"
   ]
  },
  {
   "cell_type": "code",
   "execution_count": 2,
   "metadata": {},
   "outputs": [],
   "source": [
    "import warnings\n",
    "warnings.filterwarnings(\"ignore\")"
   ]
  },
  {
   "cell_type": "code",
   "execution_count": 3,
   "metadata": {},
   "outputs": [],
   "source": [
    "%matplotlib inline\n",
    "import matplotlib.pyplot as plt\n",
    "plt.rcParams[\"figure.figsize\"] = (15,5)\n",
    "plt.rcParams['axes.grid'] = False\n",
    "import seaborn as sns\n",
    "sns.set_style(\"whitegrid\", {'axes.grid' : False})"
   ]
  },
  {
   "cell_type": "code",
   "execution_count": 4,
   "metadata": {},
   "outputs": [],
   "source": [
    "import datetime"
   ]
  },
  {
   "cell_type": "code",
   "execution_count": 5,
   "metadata": {},
   "outputs": [],
   "source": [
    "from Base.underlying import underlying\n",
    "from Base.stock import stock"
   ]
  },
  {
   "attachments": {},
   "cell_type": "markdown",
   "metadata": {},
   "source": [
    "## Create an underlying object. This is the ticker underlying for all securities. "
   ]
  },
  {
   "cell_type": "code",
   "execution_count": 6,
   "metadata": {},
   "outputs": [],
   "source": [
    "reliance = underlying('RELIANCE')"
   ]
  },
  {
   "attachments": {},
   "cell_type": "markdown",
   "metadata": {},
   "source": [
    "## Create an object for the cash stock security for the underlying"
   ]
  },
  {
   "cell_type": "code",
   "execution_count": 7,
   "metadata": {},
   "outputs": [],
   "source": [
    "reliance_stock = stock(reliance)"
   ]
  },
  {
   "attachments": {},
   "cell_type": "markdown",
   "metadata": {},
   "source": [
    "### Get data for the cash equity security for the underlying"
   ]
  },
  {
   "cell_type": "code",
   "execution_count": 8,
   "metadata": {},
   "outputs": [],
   "source": [
    "reliance_stock.get_data(start_date=\"2022-06-01\", end_date=datetime.datetime.now().strftime(\"%Y-%m-%d %H:%M:%S\"), interval=\"60minute\")"
   ]
  },
  {
   "cell_type": "code",
   "execution_count": 9,
   "metadata": {},
   "outputs": [
    {
     "data": {
      "text/html": [
       "<div>\n",
       "<style scoped>\n",
       "    .dataframe tbody tr th:only-of-type {\n",
       "        vertical-align: middle;\n",
       "    }\n",
       "\n",
       "    .dataframe tbody tr th {\n",
       "        vertical-align: top;\n",
       "    }\n",
       "\n",
       "    .dataframe thead th {\n",
       "        text-align: right;\n",
       "    }\n",
       "</style>\n",
       "<table border=\"1\" class=\"dataframe\">\n",
       "  <thead>\n",
       "    <tr style=\"text-align: right;\">\n",
       "      <th></th>\n",
       "      <th>date</th>\n",
       "      <th>open</th>\n",
       "      <th>high</th>\n",
       "      <th>low</th>\n",
       "      <th>close</th>\n",
       "      <th>volume</th>\n",
       "    </tr>\n",
       "  </thead>\n",
       "  <tbody>\n",
       "    <tr>\n",
       "      <th>0</th>\n",
       "      <td>2022-06-01 09:15:00+05:30</td>\n",
       "      <td>2634.30</td>\n",
       "      <td>2650.00</td>\n",
       "      <td>2625.00</td>\n",
       "      <td>2640.40</td>\n",
       "      <td>1352354</td>\n",
       "    </tr>\n",
       "    <tr>\n",
       "      <th>1</th>\n",
       "      <td>2022-06-01 10:15:00+05:30</td>\n",
       "      <td>2640.40</td>\n",
       "      <td>2652.00</td>\n",
       "      <td>2637.90</td>\n",
       "      <td>2645.35</td>\n",
       "      <td>660209</td>\n",
       "    </tr>\n",
       "    <tr>\n",
       "      <th>2</th>\n",
       "      <td>2022-06-01 11:15:00+05:30</td>\n",
       "      <td>2645.00</td>\n",
       "      <td>2655.20</td>\n",
       "      <td>2638.60</td>\n",
       "      <td>2647.40</td>\n",
       "      <td>547521</td>\n",
       "    </tr>\n",
       "    <tr>\n",
       "      <th>3</th>\n",
       "      <td>2022-06-01 12:15:00+05:30</td>\n",
       "      <td>2647.40</td>\n",
       "      <td>2650.90</td>\n",
       "      <td>2640.00</td>\n",
       "      <td>2640.00</td>\n",
       "      <td>326939</td>\n",
       "    </tr>\n",
       "    <tr>\n",
       "      <th>4</th>\n",
       "      <td>2022-06-01 13:15:00+05:30</td>\n",
       "      <td>2639.60</td>\n",
       "      <td>2640.50</td>\n",
       "      <td>2616.20</td>\n",
       "      <td>2619.45</td>\n",
       "      <td>601275</td>\n",
       "    </tr>\n",
       "    <tr>\n",
       "      <th>...</th>\n",
       "      <td>...</td>\n",
       "      <td>...</td>\n",
       "      <td>...</td>\n",
       "      <td>...</td>\n",
       "      <td>...</td>\n",
       "      <td>...</td>\n",
       "    </tr>\n",
       "    <tr>\n",
       "      <th>1838</th>\n",
       "      <td>2023-06-22 12:15:00+05:30</td>\n",
       "      <td>2549.00</td>\n",
       "      <td>2551.50</td>\n",
       "      <td>2540.00</td>\n",
       "      <td>2543.00</td>\n",
       "      <td>458419</td>\n",
       "    </tr>\n",
       "    <tr>\n",
       "      <th>1839</th>\n",
       "      <td>2023-06-22 13:15:00+05:30</td>\n",
       "      <td>2543.00</td>\n",
       "      <td>2547.55</td>\n",
       "      <td>2540.35</td>\n",
       "      <td>2542.80</td>\n",
       "      <td>467154</td>\n",
       "    </tr>\n",
       "    <tr>\n",
       "      <th>1840</th>\n",
       "      <td>2023-06-22 14:15:00+05:30</td>\n",
       "      <td>2543.00</td>\n",
       "      <td>2543.00</td>\n",
       "      <td>2535.40</td>\n",
       "      <td>2535.70</td>\n",
       "      <td>520348</td>\n",
       "    </tr>\n",
       "    <tr>\n",
       "      <th>1841</th>\n",
       "      <td>2023-06-22 15:15:00+05:30</td>\n",
       "      <td>2535.95</td>\n",
       "      <td>2540.00</td>\n",
       "      <td>2532.25</td>\n",
       "      <td>2535.50</td>\n",
       "      <td>313239</td>\n",
       "    </tr>\n",
       "    <tr>\n",
       "      <th>1842</th>\n",
       "      <td>2023-06-22 16:15:00+05:30</td>\n",
       "      <td>2535.50</td>\n",
       "      <td>2535.50</td>\n",
       "      <td>2535.50</td>\n",
       "      <td>2535.50</td>\n",
       "      <td>0</td>\n",
       "    </tr>\n",
       "  </tbody>\n",
       "</table>\n",
       "<p>1843 rows × 6 columns</p>\n",
       "</div>"
      ],
      "text/plain": [
       "                          date     open     high      low    close   volume\n",
       "0    2022-06-01 09:15:00+05:30  2634.30  2650.00  2625.00  2640.40  1352354\n",
       "1    2022-06-01 10:15:00+05:30  2640.40  2652.00  2637.90  2645.35   660209\n",
       "2    2022-06-01 11:15:00+05:30  2645.00  2655.20  2638.60  2647.40   547521\n",
       "3    2022-06-01 12:15:00+05:30  2647.40  2650.90  2640.00  2640.00   326939\n",
       "4    2022-06-01 13:15:00+05:30  2639.60  2640.50  2616.20  2619.45   601275\n",
       "...                        ...      ...      ...      ...      ...      ...\n",
       "1838 2023-06-22 12:15:00+05:30  2549.00  2551.50  2540.00  2543.00   458419\n",
       "1839 2023-06-22 13:15:00+05:30  2543.00  2547.55  2540.35  2542.80   467154\n",
       "1840 2023-06-22 14:15:00+05:30  2543.00  2543.00  2535.40  2535.70   520348\n",
       "1841 2023-06-22 15:15:00+05:30  2535.95  2540.00  2532.25  2535.50   313239\n",
       "1842 2023-06-22 16:15:00+05:30  2535.50  2535.50  2535.50  2535.50        0\n",
       "\n",
       "[1843 rows x 6 columns]"
      ]
     },
     "execution_count": 9,
     "metadata": {},
     "output_type": "execute_result"
    }
   ],
   "source": [
    "reliance.stock.data"
   ]
  },
  {
   "attachments": {},
   "cell_type": "markdown",
   "metadata": {},
   "source": [
    "## Options "
   ]
  },
  {
   "attachments": {},
   "cell_type": "markdown",
   "metadata": {},
   "source": [
    "### Getting all Available Options for an Underlying"
   ]
  },
  {
   "cell_type": "code",
   "execution_count": 10,
   "metadata": {},
   "outputs": [],
   "source": [
    "reliance.get_option_matrix()"
   ]
  },
  {
   "attachments": {},
   "cell_type": "markdown",
   "metadata": {},
   "source": [
    "### Create objects for each option contract"
   ]
  },
  {
   "cell_type": "code",
   "execution_count": 11,
   "metadata": {},
   "outputs": [],
   "source": [
    "reliance.create_options_contracts()"
   ]
  },
  {
   "attachments": {},
   "cell_type": "markdown",
   "metadata": {},
   "source": [
    "### All Expiries"
   ]
  },
  {
   "cell_type": "code",
   "execution_count": 12,
   "metadata": {},
   "outputs": [
    {
     "data": {
      "text/plain": [
       "[datetime.date(2023, 6, 29),\n",
       " datetime.date(2023, 7, 27),\n",
       " datetime.date(2023, 8, 31)]"
      ]
     },
     "execution_count": 12,
     "metadata": {},
     "output_type": "execute_result"
    }
   ],
   "source": [
    "reliance.option_expiries"
   ]
  },
  {
   "attachments": {},
   "cell_type": "markdown",
   "metadata": {},
   "source": [
    "### All Strikes for a Particular Expiry"
   ]
  },
  {
   "cell_type": "code",
   "execution_count": 13,
   "metadata": {},
   "outputs": [
    {
     "data": {
      "text/plain": [
       "[1900.0,\n",
       " 1920.0,\n",
       " 1940.0,\n",
       " 1960.0,\n",
       " 1980.0,\n",
       " 2000.0,\n",
       " 2020.0,\n",
       " 2040.0,\n",
       " 2060.0,\n",
       " 2080.0,\n",
       " 2100.0,\n",
       " 2120.0,\n",
       " 2140.0,\n",
       " 2160.0,\n",
       " 2180.0,\n",
       " 2200.0,\n",
       " 2220.0,\n",
       " 2240.0,\n",
       " 2260.0,\n",
       " 2280.0,\n",
       " 2300.0,\n",
       " 2320.0,\n",
       " 2340.0,\n",
       " 2360.0,\n",
       " 2380.0,\n",
       " 2400.0,\n",
       " 2420.0,\n",
       " 2440.0,\n",
       " 2460.0,\n",
       " 2480.0,\n",
       " 2500.0,\n",
       " 2520.0,\n",
       " 2540.0,\n",
       " 2560.0,\n",
       " 2580.0,\n",
       " 2600.0,\n",
       " 2620.0,\n",
       " 2640.0,\n",
       " 2660.0,\n",
       " 2680.0,\n",
       " 2700.0,\n",
       " 2720.0,\n",
       " 2740.0,\n",
       " 2760.0,\n",
       " 2780.0,\n",
       " 2800.0,\n",
       " 2820.0,\n",
       " 2840.0,\n",
       " 2860.0,\n",
       " 2880.0,\n",
       " 2900.0,\n",
       " 2920.0]"
      ]
     },
     "execution_count": 13,
     "metadata": {},
     "output_type": "execute_result"
    }
   ],
   "source": [
    "reliance.get_strike_list(reliance.options_matrix, datetime.date(2023, 6, 29))"
   ]
  },
  {
   "attachments": {},
   "cell_type": "markdown",
   "metadata": {},
   "source": [
    "### Get Data for all Options Contracts"
   ]
  },
  {
   "cell_type": "code",
   "execution_count": null,
   "metadata": {},
   "outputs": [],
   "source": [
    "reliance.get_data_for_all_options_contracts(start_date=\"2023-06-01\", end_date=datetime.datetime.now().strftime(\"%Y-%m-%d %H:%M:%S\"), interval=\"day\")"
   ]
  },
  {
   "attachments": {},
   "cell_type": "markdown",
   "metadata": {},
   "source": [
    "### Get Option Data for a Particular Contract"
   ]
  },
  {
   "cell_type": "code",
   "execution_count": 14,
   "metadata": {},
   "outputs": [],
   "source": [
    "reliance.options[datetime.date(2023, 6, 29)][2400]['call'].get_data(start_date=\"2023-04-01\", end_date=datetime.datetime.now().strftime(\"%Y-%m-%d %H:%M:%S\"), interval=\"day\")"
   ]
  },
  {
   "attachments": {},
   "cell_type": "markdown",
   "metadata": {},
   "source": [
    "## Futures"
   ]
  },
  {
   "attachments": {},
   "cell_type": "markdown",
   "metadata": {},
   "source": [
    "### Get Futures Matrix"
   ]
  },
  {
   "cell_type": "code",
   "execution_count": 15,
   "metadata": {},
   "outputs": [],
   "source": [
    "reliance.get_futures_matrix()"
   ]
  },
  {
   "attachments": {},
   "cell_type": "markdown",
   "metadata": {},
   "source": [
    "### Create Object for each Future Contract"
   ]
  },
  {
   "cell_type": "code",
   "execution_count": 16,
   "metadata": {},
   "outputs": [],
   "source": [
    "reliance.create_futures_contracts()"
   ]
  },
  {
   "attachments": {},
   "cell_type": "markdown",
   "metadata": {},
   "source": [
    "### Get Data for all Futures Contracts"
   ]
  },
  {
   "cell_type": "code",
   "execution_count": null,
   "metadata": {},
   "outputs": [],
   "source": [
    "reliance.get_data_for_all_futures_contracts(start_date=\"2023-06-01\", end_date=datetime.datetime.now().strftime(\"%Y-%m-%d %H:%M:%S\"), interval=\"day\")"
   ]
  },
  {
   "attachments": {},
   "cell_type": "markdown",
   "metadata": {},
   "source": [
    "### Get Data for a Particular Future Contract"
   ]
  },
  {
   "cell_type": "code",
   "execution_count": 17,
   "metadata": {},
   "outputs": [],
   "source": [
    "reliance.futures[datetime.date(2023, 7, 27)].get_data(start_date=\"2023-04-01\", end_date=datetime.datetime.now().strftime(\"%Y-%m-%d %H:%M:%S\"), interval=\"day\")"
   ]
  },
  {
   "cell_type": "code",
   "execution_count": 22,
   "metadata": {},
   "outputs": [
    {
     "data": {
      "text/html": [
       "<div>\n",
       "<style scoped>\n",
       "    .dataframe tbody tr th:only-of-type {\n",
       "        vertical-align: middle;\n",
       "    }\n",
       "\n",
       "    .dataframe tbody tr th {\n",
       "        vertical-align: top;\n",
       "    }\n",
       "\n",
       "    .dataframe thead th {\n",
       "        text-align: right;\n",
       "    }\n",
       "</style>\n",
       "<table border=\"1\" class=\"dataframe\">\n",
       "  <thead>\n",
       "    <tr style=\"text-align: right;\">\n",
       "      <th></th>\n",
       "      <th>date</th>\n",
       "      <th>open</th>\n",
       "      <th>high</th>\n",
       "      <th>low</th>\n",
       "      <th>close</th>\n",
       "      <th>volume</th>\n",
       "      <th>oi</th>\n",
       "    </tr>\n",
       "  </thead>\n",
       "  <tbody>\n",
       "    <tr>\n",
       "      <th>0</th>\n",
       "      <td>2023-06-01 00:00:00+05:30</td>\n",
       "      <td>2504.05</td>\n",
       "      <td>2518.55</td>\n",
       "      <td>2494.05</td>\n",
       "      <td>2496.90</td>\n",
       "      <td>265500</td>\n",
       "      <td>986000</td>\n",
       "    </tr>\n",
       "    <tr>\n",
       "      <th>1</th>\n",
       "      <td>2023-06-02 00:00:00+05:30</td>\n",
       "      <td>2500.75</td>\n",
       "      <td>2514.00</td>\n",
       "      <td>2484.50</td>\n",
       "      <td>2489.20</td>\n",
       "      <td>562250</td>\n",
       "      <td>1213750</td>\n",
       "    </tr>\n",
       "    <tr>\n",
       "      <th>2</th>\n",
       "      <td>2023-06-05 00:00:00+05:30</td>\n",
       "      <td>2500.05</td>\n",
       "      <td>2517.00</td>\n",
       "      <td>2492.10</td>\n",
       "      <td>2512.10</td>\n",
       "      <td>295000</td>\n",
       "      <td>1253250</td>\n",
       "    </tr>\n",
       "    <tr>\n",
       "      <th>3</th>\n",
       "      <td>2023-06-06 00:00:00+05:30</td>\n",
       "      <td>2512.80</td>\n",
       "      <td>2518.70</td>\n",
       "      <td>2493.00</td>\n",
       "      <td>2506.35</td>\n",
       "      <td>219500</td>\n",
       "      <td>1292500</td>\n",
       "    </tr>\n",
       "    <tr>\n",
       "      <th>4</th>\n",
       "      <td>2023-06-07 00:00:00+05:30</td>\n",
       "      <td>2517.00</td>\n",
       "      <td>2531.75</td>\n",
       "      <td>2505.45</td>\n",
       "      <td>2528.75</td>\n",
       "      <td>290250</td>\n",
       "      <td>1289250</td>\n",
       "    </tr>\n",
       "    <tr>\n",
       "      <th>5</th>\n",
       "      <td>2023-06-08 00:00:00+05:30</td>\n",
       "      <td>2528.40</td>\n",
       "      <td>2541.00</td>\n",
       "      <td>2515.90</td>\n",
       "      <td>2524.50</td>\n",
       "      <td>528500</td>\n",
       "      <td>1276750</td>\n",
       "    </tr>\n",
       "    <tr>\n",
       "      <th>6</th>\n",
       "      <td>2023-06-09 00:00:00+05:30</td>\n",
       "      <td>2529.00</td>\n",
       "      <td>2532.05</td>\n",
       "      <td>2501.20</td>\n",
       "      <td>2504.70</td>\n",
       "      <td>294000</td>\n",
       "      <td>1368500</td>\n",
       "    </tr>\n",
       "    <tr>\n",
       "      <th>7</th>\n",
       "      <td>2023-06-12 00:00:00+05:30</td>\n",
       "      <td>2507.35</td>\n",
       "      <td>2515.20</td>\n",
       "      <td>2492.00</td>\n",
       "      <td>2510.00</td>\n",
       "      <td>356750</td>\n",
       "      <td>1482500</td>\n",
       "    </tr>\n",
       "    <tr>\n",
       "      <th>8</th>\n",
       "      <td>2023-06-13 00:00:00+05:30</td>\n",
       "      <td>2505.30</td>\n",
       "      <td>2544.50</td>\n",
       "      <td>2505.30</td>\n",
       "      <td>2542.30</td>\n",
       "      <td>569000</td>\n",
       "      <td>1565000</td>\n",
       "    </tr>\n",
       "    <tr>\n",
       "      <th>9</th>\n",
       "      <td>2023-06-14 00:00:00+05:30</td>\n",
       "      <td>2540.00</td>\n",
       "      <td>2576.20</td>\n",
       "      <td>2538.80</td>\n",
       "      <td>2571.45</td>\n",
       "      <td>695250</td>\n",
       "      <td>1651250</td>\n",
       "    </tr>\n",
       "    <tr>\n",
       "      <th>10</th>\n",
       "      <td>2023-06-15 00:00:00+05:30</td>\n",
       "      <td>2564.05</td>\n",
       "      <td>2582.00</td>\n",
       "      <td>2558.00</td>\n",
       "      <td>2572.25</td>\n",
       "      <td>822750</td>\n",
       "      <td>1893250</td>\n",
       "    </tr>\n",
       "    <tr>\n",
       "      <th>11</th>\n",
       "      <td>2023-06-16 00:00:00+05:30</td>\n",
       "      <td>2578.85</td>\n",
       "      <td>2601.45</td>\n",
       "      <td>2578.85</td>\n",
       "      <td>2597.45</td>\n",
       "      <td>679250</td>\n",
       "      <td>1946250</td>\n",
       "    </tr>\n",
       "    <tr>\n",
       "      <th>12</th>\n",
       "      <td>2023-06-19 00:00:00+05:30</td>\n",
       "      <td>2597.40</td>\n",
       "      <td>2601.55</td>\n",
       "      <td>2570.15</td>\n",
       "      <td>2577.40</td>\n",
       "      <td>991750</td>\n",
       "      <td>2384750</td>\n",
       "    </tr>\n",
       "    <tr>\n",
       "      <th>13</th>\n",
       "      <td>2023-06-20 00:00:00+05:30</td>\n",
       "      <td>2572.55</td>\n",
       "      <td>2584.00</td>\n",
       "      <td>2558.05</td>\n",
       "      <td>2578.30</td>\n",
       "      <td>1147750</td>\n",
       "      <td>2960750</td>\n",
       "    </tr>\n",
       "    <tr>\n",
       "      <th>14</th>\n",
       "      <td>2023-06-21 00:00:00+05:30</td>\n",
       "      <td>2580.00</td>\n",
       "      <td>2589.00</td>\n",
       "      <td>2570.35</td>\n",
       "      <td>2582.60</td>\n",
       "      <td>1128250</td>\n",
       "      <td>3488750</td>\n",
       "    </tr>\n",
       "    <tr>\n",
       "      <th>15</th>\n",
       "      <td>2023-06-22 00:00:00+05:30</td>\n",
       "      <td>2580.00</td>\n",
       "      <td>2589.90</td>\n",
       "      <td>2556.00</td>\n",
       "      <td>2558.00</td>\n",
       "      <td>2238500</td>\n",
       "      <td>4862500</td>\n",
       "    </tr>\n",
       "  </tbody>\n",
       "</table>\n",
       "</div>"
      ],
      "text/plain": [
       "                        date     open     high      low    close   volume  \\\n",
       "0  2023-06-01 00:00:00+05:30  2504.05  2518.55  2494.05  2496.90   265500   \n",
       "1  2023-06-02 00:00:00+05:30  2500.75  2514.00  2484.50  2489.20   562250   \n",
       "2  2023-06-05 00:00:00+05:30  2500.05  2517.00  2492.10  2512.10   295000   \n",
       "3  2023-06-06 00:00:00+05:30  2512.80  2518.70  2493.00  2506.35   219500   \n",
       "4  2023-06-07 00:00:00+05:30  2517.00  2531.75  2505.45  2528.75   290250   \n",
       "5  2023-06-08 00:00:00+05:30  2528.40  2541.00  2515.90  2524.50   528500   \n",
       "6  2023-06-09 00:00:00+05:30  2529.00  2532.05  2501.20  2504.70   294000   \n",
       "7  2023-06-12 00:00:00+05:30  2507.35  2515.20  2492.00  2510.00   356750   \n",
       "8  2023-06-13 00:00:00+05:30  2505.30  2544.50  2505.30  2542.30   569000   \n",
       "9  2023-06-14 00:00:00+05:30  2540.00  2576.20  2538.80  2571.45   695250   \n",
       "10 2023-06-15 00:00:00+05:30  2564.05  2582.00  2558.00  2572.25   822750   \n",
       "11 2023-06-16 00:00:00+05:30  2578.85  2601.45  2578.85  2597.45   679250   \n",
       "12 2023-06-19 00:00:00+05:30  2597.40  2601.55  2570.15  2577.40   991750   \n",
       "13 2023-06-20 00:00:00+05:30  2572.55  2584.00  2558.05  2578.30  1147750   \n",
       "14 2023-06-21 00:00:00+05:30  2580.00  2589.00  2570.35  2582.60  1128250   \n",
       "15 2023-06-22 00:00:00+05:30  2580.00  2589.90  2556.00  2558.00  2238500   \n",
       "\n",
       "         oi  \n",
       "0    986000  \n",
       "1   1213750  \n",
       "2   1253250  \n",
       "3   1292500  \n",
       "4   1289250  \n",
       "5   1276750  \n",
       "6   1368500  \n",
       "7   1482500  \n",
       "8   1565000  \n",
       "9   1651250  \n",
       "10  1893250  \n",
       "11  1946250  \n",
       "12  2384750  \n",
       "13  2960750  \n",
       "14  3488750  \n",
       "15  4862500  "
      ]
     },
     "execution_count": 22,
     "metadata": {},
     "output_type": "execute_result"
    }
   ],
   "source": [
    "reliance.futures[datetime.date(2023, 7, 27)].data"
   ]
  },
  {
   "cell_type": "code",
   "execution_count": null,
   "metadata": {},
   "outputs": [],
   "source": []
  }
 ],
 "metadata": {
  "kernelspec": {
   "display_name": "Python 3",
   "language": "python",
   "name": "python3"
  },
  "language_info": {
   "codemirror_mode": {
    "name": "ipython",
    "version": 3
   },
   "file_extension": ".py",
   "mimetype": "text/x-python",
   "name": "python",
   "nbconvert_exporter": "python",
   "pygments_lexer": "ipython3",
   "version": "3.9.6"
  },
  "orig_nbformat": 4
 },
 "nbformat": 4,
 "nbformat_minor": 2
}
