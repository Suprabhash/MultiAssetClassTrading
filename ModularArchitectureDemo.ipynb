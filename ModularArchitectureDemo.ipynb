{
 "cells": [
  {
   "attachments": {},
   "cell_type": "markdown",
   "metadata": {},
   "source": [
    "## Relevant Imports "
   ]
  },
  {
   "cell_type": "code",
   "execution_count": 1,
   "metadata": {},
   "outputs": [],
   "source": [
    "%load_ext autoreload\n",
    "%autoreload 2"
   ]
  },
  {
   "cell_type": "code",
   "execution_count": 2,
   "metadata": {},
   "outputs": [],
   "source": [
    "import warnings\n",
    "warnings.filterwarnings(\"ignore\")"
   ]
  },
  {
   "cell_type": "code",
   "execution_count": 2,
   "metadata": {},
   "outputs": [],
   "source": [
    "%matplotlib inline\n",
    "import matplotlib.pyplot as plt\n",
    "plt.rcParams[\"figure.figsize\"] = (15,5)\n",
    "plt.rcParams['axes.grid'] = False\n",
    "import seaborn as sns\n",
    "sns.set_style(\"whitegrid\", {'axes.grid' : False})"
   ]
  },
  {
   "cell_type": "code",
   "execution_count": 43,
   "metadata": {},
   "outputs": [],
   "source": [
    "import datetime"
   ]
  },
  {
   "cell_type": "code",
   "execution_count": 33,
   "metadata": {},
   "outputs": [],
   "source": [
    "from Base.underlying import underlying\n",
    "from Base.stock import stock"
   ]
  },
  {
   "attachments": {},
   "cell_type": "markdown",
   "metadata": {},
   "source": [
    "## Create an underlying object. This is the ticker underlying for all securities. "
   ]
  },
  {
   "cell_type": "code",
   "execution_count": 34,
   "metadata": {},
   "outputs": [],
   "source": [
    "reliance = underlying('RELIANCE')"
   ]
  },
  {
   "attachments": {},
   "cell_type": "markdown",
   "metadata": {},
   "source": [
    "## Create an object for the cash stock security for the underlying"
   ]
  },
  {
   "cell_type": "code",
   "execution_count": 36,
   "metadata": {},
   "outputs": [],
   "source": [
    "reliance_stock = stock(reliance)"
   ]
  },
  {
   "attachments": {},
   "cell_type": "markdown",
   "metadata": {},
   "source": [
    "### Get data for the cash equity security for the underlying"
   ]
  },
  {
   "cell_type": "code",
   "execution_count": 55,
   "metadata": {},
   "outputs": [
    {
     "name": "stderr",
     "output_type": "stream",
     "text": [
      "DEBUG:urllib3.connectionpool:Starting new HTTPS connection (1): api.kite.trade:443\n"
     ]
    },
    {
     "name": "stderr",
     "output_type": "stream",
     "text": [
      "DEBUG:urllib3.connectionpool:https://api.kite.trade:443 \"GET /instruments/NSE HTTP/1.1\" 200 81864\n",
      "DEBUG:urllib3.connectionpool:https://api.kite.trade:443 \"GET /instruments/historical/738561/60minute?from=2022-06-01&to=2023-06-21+19%3A48%3A59&interval=60minute&continuous=0&oi=0 HTTP/1.1\" 200 38120\n"
     ]
    }
   ],
   "source": [
    "reliance_stock.get_data(start_date=\"2022-06-01\", end_date=datetime.datetime.now().strftime(\"%Y-%m-%d %H:%M:%S\"), interval=\"60minute\")"
   ]
  },
  {
   "cell_type": "code",
   "execution_count": 56,
   "metadata": {},
   "outputs": [
    {
     "data": {
      "text/html": [
       "<div>\n",
       "<style scoped>\n",
       "    .dataframe tbody tr th:only-of-type {\n",
       "        vertical-align: middle;\n",
       "    }\n",
       "\n",
       "    .dataframe tbody tr th {\n",
       "        vertical-align: top;\n",
       "    }\n",
       "\n",
       "    .dataframe thead th {\n",
       "        text-align: right;\n",
       "    }\n",
       "</style>\n",
       "<table border=\"1\" class=\"dataframe\">\n",
       "  <thead>\n",
       "    <tr style=\"text-align: right;\">\n",
       "      <th></th>\n",
       "      <th>date</th>\n",
       "      <th>open</th>\n",
       "      <th>high</th>\n",
       "      <th>low</th>\n",
       "      <th>close</th>\n",
       "      <th>volume</th>\n",
       "    </tr>\n",
       "  </thead>\n",
       "  <tbody>\n",
       "    <tr>\n",
       "      <th>0</th>\n",
       "      <td>2022-06-01 09:15:00+05:30</td>\n",
       "      <td>2634.30</td>\n",
       "      <td>2650.00</td>\n",
       "      <td>2625.0</td>\n",
       "      <td>2640.40</td>\n",
       "      <td>1352354</td>\n",
       "    </tr>\n",
       "    <tr>\n",
       "      <th>1</th>\n",
       "      <td>2022-06-01 10:15:00+05:30</td>\n",
       "      <td>2640.40</td>\n",
       "      <td>2652.00</td>\n",
       "      <td>2637.9</td>\n",
       "      <td>2645.35</td>\n",
       "      <td>660209</td>\n",
       "    </tr>\n",
       "    <tr>\n",
       "      <th>2</th>\n",
       "      <td>2022-06-01 11:15:00+05:30</td>\n",
       "      <td>2645.00</td>\n",
       "      <td>2655.20</td>\n",
       "      <td>2638.6</td>\n",
       "      <td>2647.40</td>\n",
       "      <td>547521</td>\n",
       "    </tr>\n",
       "    <tr>\n",
       "      <th>3</th>\n",
       "      <td>2022-06-01 12:15:00+05:30</td>\n",
       "      <td>2647.40</td>\n",
       "      <td>2650.90</td>\n",
       "      <td>2640.0</td>\n",
       "      <td>2640.00</td>\n",
       "      <td>326939</td>\n",
       "    </tr>\n",
       "    <tr>\n",
       "      <th>4</th>\n",
       "      <td>2022-06-01 13:15:00+05:30</td>\n",
       "      <td>2639.60</td>\n",
       "      <td>2640.50</td>\n",
       "      <td>2616.2</td>\n",
       "      <td>2619.45</td>\n",
       "      <td>601275</td>\n",
       "    </tr>\n",
       "    <tr>\n",
       "      <th>...</th>\n",
       "      <td>...</td>\n",
       "      <td>...</td>\n",
       "      <td>...</td>\n",
       "      <td>...</td>\n",
       "      <td>...</td>\n",
       "      <td>...</td>\n",
       "    </tr>\n",
       "    <tr>\n",
       "      <th>1833</th>\n",
       "      <td>2023-06-21 14:15:00+05:30</td>\n",
       "      <td>2566.85</td>\n",
       "      <td>2567.00</td>\n",
       "      <td>2558.7</td>\n",
       "      <td>2565.10</td>\n",
       "      <td>772484</td>\n",
       "    </tr>\n",
       "    <tr>\n",
       "      <th>1834</th>\n",
       "      <td>2023-06-21 15:15:00+05:30</td>\n",
       "      <td>2564.95</td>\n",
       "      <td>2566.95</td>\n",
       "      <td>2561.5</td>\n",
       "      <td>2564.30</td>\n",
       "      <td>509129</td>\n",
       "    </tr>\n",
       "    <tr>\n",
       "      <th>1835</th>\n",
       "      <td>2023-06-21 16:15:00+05:30</td>\n",
       "      <td>2564.30</td>\n",
       "      <td>2564.30</td>\n",
       "      <td>2564.3</td>\n",
       "      <td>2564.30</td>\n",
       "      <td>0</td>\n",
       "    </tr>\n",
       "    <tr>\n",
       "      <th>1836</th>\n",
       "      <td>2023-06-21 17:15:00+05:30</td>\n",
       "      <td>2564.30</td>\n",
       "      <td>2564.30</td>\n",
       "      <td>2564.3</td>\n",
       "      <td>2564.30</td>\n",
       "      <td>0</td>\n",
       "    </tr>\n",
       "    <tr>\n",
       "      <th>1837</th>\n",
       "      <td>2023-06-21 18:15:00+05:30</td>\n",
       "      <td>2564.30</td>\n",
       "      <td>2564.30</td>\n",
       "      <td>2564.3</td>\n",
       "      <td>2564.30</td>\n",
       "      <td>0</td>\n",
       "    </tr>\n",
       "  </tbody>\n",
       "</table>\n",
       "<p>1838 rows × 6 columns</p>\n",
       "</div>"
      ],
      "text/plain": [
       "                          date     open     high     low    close   volume\n",
       "0    2022-06-01 09:15:00+05:30  2634.30  2650.00  2625.0  2640.40  1352354\n",
       "1    2022-06-01 10:15:00+05:30  2640.40  2652.00  2637.9  2645.35   660209\n",
       "2    2022-06-01 11:15:00+05:30  2645.00  2655.20  2638.6  2647.40   547521\n",
       "3    2022-06-01 12:15:00+05:30  2647.40  2650.90  2640.0  2640.00   326939\n",
       "4    2022-06-01 13:15:00+05:30  2639.60  2640.50  2616.2  2619.45   601275\n",
       "...                        ...      ...      ...     ...      ...      ...\n",
       "1833 2023-06-21 14:15:00+05:30  2566.85  2567.00  2558.7  2565.10   772484\n",
       "1834 2023-06-21 15:15:00+05:30  2564.95  2566.95  2561.5  2564.30   509129\n",
       "1835 2023-06-21 16:15:00+05:30  2564.30  2564.30  2564.3  2564.30        0\n",
       "1836 2023-06-21 17:15:00+05:30  2564.30  2564.30  2564.3  2564.30        0\n",
       "1837 2023-06-21 18:15:00+05:30  2564.30  2564.30  2564.3  2564.30        0\n",
       "\n",
       "[1838 rows x 6 columns]"
      ]
     },
     "execution_count": 56,
     "metadata": {},
     "output_type": "execute_result"
    }
   ],
   "source": [
    "reliance.stock.data"
   ]
  },
  {
   "attachments": {},
   "cell_type": "markdown",
   "metadata": {},
   "source": [
    "## Create an object for the Futures securities for the underlying"
   ]
  },
  {
   "attachments": {},
   "cell_type": "markdown",
   "metadata": {},
   "source": []
  }
 ],
 "metadata": {
  "kernelspec": {
   "display_name": "Python 3",
   "language": "python",
   "name": "python3"
  },
  "language_info": {
   "codemirror_mode": {
    "name": "ipython",
    "version": 3
   },
   "file_extension": ".py",
   "mimetype": "text/x-python",
   "name": "python",
   "nbconvert_exporter": "python",
   "pygments_lexer": "ipython3",
   "version": "3.9.6"
  },
  "orig_nbformat": 4
 },
 "nbformat": 4,
 "nbformat_minor": 2
}
